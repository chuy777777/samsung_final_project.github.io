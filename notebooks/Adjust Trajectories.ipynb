{
 "cells": [
  {
   "cell_type": "markdown",
   "id": "b30845dd-b845-449e-872d-f14be8b20e66",
   "metadata": {},
   "source": [
    "# Importacion de librerias"
   ]
  },
  {
   "cell_type": "code",
   "execution_count": 87,
   "id": "2c1fabfa-77e0-4b39-98f0-5f36286b5b72",
   "metadata": {},
   "outputs": [],
   "source": [
    "import numpy as np\n",
    "import matplotlib.pyplot as plt\n",
    "import plotly.graph_objects as go\n",
    "import os\n",
    "from scipy.optimize import minimize\n",
    "import ipywidgets as widgets\n",
    "\n",
    "%matplotlib inline"
   ]
  },
  {
   "cell_type": "code",
   "execution_count": 88,
   "id": "012d93a4-f1b2-4dd6-804a-9bb48733abf2",
   "metadata": {},
   "outputs": [],
   "source": [
    "# !pip install kaleido==0.1.0"
   ]
  },
  {
   "cell_type": "markdown",
   "id": "47c1c460-e5a2-4627-a7cc-375ec2f088e2",
   "metadata": {},
   "source": [
    "# Clases y metodos auxiliares"
   ]
  },
  {
   "cell_type": "code",
   "execution_count": 89,
   "id": "58486956-1886-4c45-942b-fa8ca234ff0f",
   "metadata": {},
   "outputs": [],
   "source": [
    "class AdjustTrajectory():\n",
    "    # Nombre del archivo de parametros de los modelos no lineales para cada punto 3D\n",
    "    nonlinear_models_parameters_file_name=\"nonlinear_models_parameters.npy\"\n",
    "\n",
    "    # Funcion de perdida a optimizar\n",
    "    @staticmethod\n",
    "    def L(params, point_3D_over_time):\n",
    "        # Numero de puntos 3D a ajustar\n",
    "        m=point_3D_over_time.shape[0]\n",
    "        # Valores de t para cada punto en la parametrizacion de la curva (p(t)) (cada punto 3D tiene asociado un valor de t)\n",
    "        ts=params[0:m]\n",
    "        # Parametros de los polinomios de grado 2 en cada dimension \n",
    "        wx1,wx2,wy1,wy2,wz1,wz2=params[m:]\n",
    "        # Punto inicial de la parametrizacion\n",
    "        p0=point_3D_over_time[0]\n",
    "        cost=0\n",
    "        for i in range(m):\n",
    "            # Un punto 3D de la nube de puntos\n",
    "            u=point_3D_over_time[i]\n",
    "            # Un valor de t\n",
    "            t=ts[i]\n",
    "            # Un punto en la parametrizacion\n",
    "            p=p0 + np.array([wx1 * t + wx2 * t ** 2, wy1 * t + wy2 * t ** 2, wz1 * t + wz2 * t ** 2])\n",
    "            # Se mide la distancia entre el punto 3D en la nube de puntos y el punto 3D en la parametrizacion\n",
    "            cost+=np.linalg.norm(u - p) ** 2\n",
    "        cost*=(1/(2 * m))\n",
    "        return cost\n",
    "\n",
    "    # Para ajustar una parametrizacion de una curva a una nube de puntos \n",
    "    @staticmethod\n",
    "    def adjust(point_3D_over_time):\n",
    "        # Numero de puntos 3D\n",
    "        m=point_3D_over_time.shape[0]\n",
    "        # Valores iniciales\n",
    "        ts_initial=np.random.random((1,m))\n",
    "        ws_initial=np.random.random((1,6))\n",
    "        initial_params=np.concatenate([ts_initial, ws_initial], axis=1).flatten()\n",
    "        # Minimizacion de la funcion de perdida\n",
    "        res = minimize(lambda params: AdjustTrajectory.L(params, point_3D_over_time), initial_params, method='BFGS', jac=False)\n",
    "        # Valores optimos\n",
    "        ts=res.x[0:m]\n",
    "        ws=res.x[m:]\n",
    "        # Solo nos interesa el t minimo y el t maximo de todos los ts \n",
    "        params=np.concatenate([np.array([ts.min(), ts.max()]), ws])\n",
    "        return params\n",
    "\n",
    "    # Para predecir puntos sobre la curva ajustada\n",
    "    @staticmethod\n",
    "    def predict(params, p0, n):\n",
    "        # Parametros optimos\n",
    "        t_min,t_max=params[0:2]\n",
    "        wx1,wx2,wy1,wy2,wz1,wz2=params[2:]\n",
    "        # Parametrizacion de la curva ajustada\n",
    "        p=lambda t: p0 + np.array([wx1 * t + wx2 * t ** 2, wy1 * t + wy2 * t ** 2, wz1 * t + wz2 * t ** 2])\n",
    "        # Puntos 3D sobre la curva ajustada\n",
    "        point_3D_over_time=np.concatenate([p(t)[None,:] for t in np.linspace(t_min, t_max, n)], axis=0)\n",
    "        return point_3D_over_time\n",
    "\n",
    "    # Para obtener las posturas 3D a lo largo del tiempo\n",
    "    @staticmethod\n",
    "    def get_posture_3D_over_time_list(specific_trajectory_full_path):\n",
    "        files=os.listdir(specific_trajectory_full_path)\n",
    "        if AdjustTrajectory.nonlinear_models_parameters_file_name in files:\n",
    "            # Si tiene parametros\n",
    "            files.remove(AdjustTrajectory.nonlinear_models_parameters_file_name)\n",
    "        else:\n",
    "            # No tiene parametros\n",
    "            pass\n",
    "        files.sort()\n",
    "        # Lista de posturas 3D a lo largo del tiempo\n",
    "        posture_3D_over_time_list=[np.load(os.path.join(specific_trajectory_full_path, *[files[i]])) for i in range(len(files))]\n",
    "        return posture_3D_over_time_list\n",
    "\n",
    "    # Para cargar los parametros de los modelos no lineales\n",
    "    @staticmethod\n",
    "    def load_nonlinear_models_parameters(specific_trajectory_full_path):\n",
    "        file_path=os.path.join(specific_trajectory_full_path, *[AdjustTrajectory.nonlinear_models_parameters_file_name])\n",
    "        if os.path.exists(file_path):\n",
    "            nonlinear_models_parameters=np.load(file_path)\n",
    "            return nonlinear_models_parameters\n",
    "        else:\n",
    "            return None\n",
    "\n",
    "    # Para guardar los parametros de los modelos no lineales\n",
    "    @staticmethod\n",
    "    def save_nonlinear_models_parameters(specific_trajectory_full_path, nonlinear_models_parameters):\n",
    "        # if not os.path.exists(specific_trajectory_full_path):\n",
    "        #     os.makedirs(specific_trajectory_full_path)\n",
    "        np.save(os.path.join(specific_trajectory_full_path, *[AdjustTrajectory.nonlinear_models_parameters_file_name]), nonlinear_models_parameters)\n",
    "\n",
    "    # Para obtener las trayectorias de los puntos 3D a lo largo del tiempo\n",
    "    @staticmethod\n",
    "    def get_point_3D_over_time_list(posture_3D_over_time_list, algorithm_number_points):\n",
    "        point_3D_over_time_list=[]\n",
    "        # Para cada punto 3D\n",
    "        for j in range(algorithm_number_points):\n",
    "            # Trayectoria de un solo punto \n",
    "            point_3D_over_time=np.zeros((len(posture_3D_over_time_list), 3))\n",
    "            for i in range(len(posture_3D_over_time_list)):\n",
    "                # Punto 3D en un instante de tiempo para un punto 3D especifico\n",
    "                point_3D_over_time[i]=posture_3D_over_time_list[i][j]\n",
    "            point_3D_over_time_list.append(point_3D_over_time)\n",
    "        return point_3D_over_time_list\n",
    "\n",
    "    # Para calcular los parametros de los modelos no lineales para cada punto 3D\n",
    "    @staticmethod\n",
    "    def calculate_nonlinear_models_parameters(posture_3D_over_time_list, algorithm_number_points):\n",
    "        nonlinear_models_parameters=np.zeros((algorithm_number_points, 8))\n",
    "        point_3D_over_time_list=AdjustTrajectory.get_point_3D_over_time_list(posture_3D_over_time_list, algorithm_number_points)\n",
    "        for i in range(algorithm_number_points):\n",
    "            nonlinear_models_parameters[i]=AdjustTrajectory.adjust(point_3D_over_time=point_3D_over_time_list[i])\n",
    "        return nonlinear_models_parameters\n",
    "\n",
    "    # Para ajustar posturas 3D y trayectorias de los puntos 3D a lo largo del tiempo\n",
    "    @staticmethod\n",
    "    def get_adjusted_posture_3D_and_point_3D_over_time_list(posture_3D_over_time_list, nonlinear_models_parameters, algorithm_number_points, n=100):\n",
    "        # n: Numero de puntos que se obtendran a lo largo de la trayectoria ajustada\n",
    "        adjusted_posture_3D_over_time_list=[np.zeros((algorithm_number_points,3)) for i in range(n)]\n",
    "        adjusted_point_3D_over_time_list=[]\n",
    "        # Para cada punto 3D\n",
    "        for i in range(algorithm_number_points):\n",
    "            # Trayectoria ajustada de un solo punto \n",
    "            adjusted_point_3D_over_time=AdjustTrajectory.predict(params=nonlinear_models_parameters[i], p0=posture_3D_over_time_list[0][i], n=n)\n",
    "            adjusted_point_3D_over_time_list.append(adjusted_point_3D_over_time)\n",
    "            for j in range(n):\n",
    "                # Punto 3D en un instante de tiempo para un punto 3D especifico\n",
    "                adjusted_posture_3D_over_time_list[j][i]=adjusted_point_3D_over_time[j]\n",
    "        return adjusted_posture_3D_over_time_list,adjusted_point_3D_over_time_list"
   ]
  },
  {
   "cell_type": "code",
   "execution_count": 90,
   "id": "fc5ea278-488e-4495-a637-55bb07748678",
   "metadata": {},
   "outputs": [],
   "source": [
    "# Para graficar posturas 3D y la trayectoria ajustada de los puntos 3D a lo largo del tiempo (opcional)\n",
    "def get_posture_figure(posture_3D_over_time, algorithm_point_names_list, algorithm_connection_list, adjusted_point_3D_over_time_list=None, rotation=1.25, title=\"\"):\n",
    "    # Puntos 3D\n",
    "    data=[\n",
    "        go.Scatter3d(\n",
    "            x=posture_3D_over_time[:,0], \n",
    "            y=posture_3D_over_time[:,1], \n",
    "            z=posture_3D_over_time[:,2], \n",
    "            mode=\"markers\", \n",
    "            name=\"\",\n",
    "            marker=dict(size=6, symbol=\"circle\", color=\"red\"),\n",
    "            text=[f\"{algorithm_point_names_list[i]} ({i})\" for i in range(len(algorithm_point_names_list))]\n",
    "        )\n",
    "    ]\n",
    "    # Conexion entre puntos 3D\n",
    "    for connection in algorithm_connection_list:\n",
    "        c1,c2=connection\n",
    "        x1,y1,z1=posture_3D_over_time[c1]\n",
    "        x2,y2,z2=posture_3D_over_time[c2]\n",
    "        data.append(\n",
    "            go.Scatter3d(\n",
    "                x=[x1,x2], \n",
    "                y=[y1,y2], \n",
    "                z=[z1,z2], \n",
    "                mode=\"lines\", \n",
    "                name=\"\",\n",
    "                line=dict(width=5, color='green')\n",
    "            )\n",
    "        )\n",
    "    if adjusted_point_3D_over_time_list is not None:\n",
    "        # Trayectoria ajustada de los puntos 3D a lo largo del tiempo\n",
    "        for adjusted_point_3D_over_time in adjusted_point_3D_over_time_list:\n",
    "            data.append(\n",
    "                go.Scatter3d(\n",
    "                    x=adjusted_point_3D_over_time[:,0], \n",
    "                    y=adjusted_point_3D_over_time[:,1], \n",
    "                    z=adjusted_point_3D_over_time[:,2], \n",
    "                    mode='lines', \n",
    "                    name='Trajectory',\n",
    "                    line=dict(width=3, color='blue')\n",
    "                )\n",
    "            )\n",
    "    fig = go.Figure(data=data)\n",
    "    fig.update_layout(\n",
    "        scene=dict(\n",
    "            xaxis_title='x',\n",
    "            yaxis_title='y',\n",
    "            zaxis_title='z',\n",
    "            xaxis = dict(nticks=4, range=[-1.5,1.5]),\n",
    "            yaxis = dict(nticks=4, range=[-1.5,1.5]),\n",
    "            zaxis = dict(nticks=4, range=[-1.5,1.5]),\n",
    "            aspectratio=dict(x=1, y=1, z=1)\n",
    "        ),\n",
    "        title=dict(text=title), \n",
    "        autosize=False,\n",
    "        width=800, \n",
    "        height=500,\n",
    "        margin=dict(l=40, r=40, b=40, t=40),\n",
    "        showlegend=False,\n",
    "        legend=dict(\n",
    "            yanchor=\"top\",\n",
    "            y=0.99,\n",
    "            xanchor=\"left\",\n",
    "            x=0.01,\n",
    "            font=dict(\n",
    "                family=\"Courier\",\n",
    "                size=14,\n",
    "                color=\"black\"\n",
    "            ),\n",
    "            itemsizing=\"constant\"\n",
    "        ),\n",
    "        scene_camera=dict(\n",
    "            up=dict(x=0, y=0, z=1),\n",
    "            center=dict(x=0, y=0, z=0),\n",
    "            eye=dict(x=rotation, y=1.25, z=1.25)\n",
    "        )\n",
    "    )\n",
    "    return fig"
   ]
  },
  {
   "cell_type": "code",
   "execution_count": 91,
   "id": "94cd8c7a-56df-46e9-8ac3-3fe281250fce",
   "metadata": {},
   "outputs": [],
   "source": [
    "# Para graficar la trayectoria ajustada de un punto 3D a lo largo del tiempo \n",
    "def get_trajectory_figure(point_3D_over_time, adjusted_point_3D_over_time, rotation=1.25, title=\"\"):\n",
    "    # Nube de puntos 3D y la trayectoria ajustada que describen\n",
    "    data=[\n",
    "        go.Scatter3d(\n",
    "            x=point_3D_over_time[:,0], \n",
    "            y=point_3D_over_time[:,1], \n",
    "            z=point_3D_over_time[:,2], \n",
    "            mode=\"markers\", \n",
    "            name=\"\",\n",
    "            marker=dict(size=6, symbol=\"circle\", color=\"red\"),\n",
    "            text=[str(i + 1) for i in range(point_3D_over_time.shape[0])]\n",
    "        ),\n",
    "        go.Scatter3d(\n",
    "            x=adjusted_point_3D_over_time[:,0], \n",
    "            y=adjusted_point_3D_over_time[:,1], \n",
    "            z=adjusted_point_3D_over_time[:,2], \n",
    "            mode='lines', \n",
    "            name='Trajectory',\n",
    "            line=dict(width=5, color='green')\n",
    "        )\n",
    "    ]\n",
    "    fig = go.Figure(data=data)\n",
    "    fig.update_layout(\n",
    "        scene=dict(\n",
    "            xaxis_title='x',\n",
    "            yaxis_title='y',\n",
    "            zaxis_title='z',\n",
    "            # xaxis = dict(nticks=4, range=[-1.5,1.5]),\n",
    "            # yaxis = dict(nticks=4, range=[-1.5,1.5]),\n",
    "            # zaxis = dict(nticks=4, range=[-1.5,1.5])\n",
    "        ),\n",
    "        title=dict(\n",
    "            text=title,\n",
    "            font=dict(\n",
    "                family=\"Courier\",\n",
    "                size=24,\n",
    "                color=\"black\"\n",
    "            )\n",
    "        ), \n",
    "        autosize=False,\n",
    "        width=800, \n",
    "        height=500,\n",
    "        margin=dict(l=40, r=40, b=40, t=40),\n",
    "        showlegend=False,\n",
    "        legend=dict(\n",
    "            yanchor=\"top\",\n",
    "            y=0.99,\n",
    "            xanchor=\"left\",\n",
    "            x=0.01,\n",
    "            font=dict(\n",
    "                family=\"Courier New, monospace\",\n",
    "                size=14,\n",
    "                color=\"black\"\n",
    "            ),\n",
    "            itemsizing=\"constant\"\n",
    "        ),\n",
    "        scene_camera=dict(\n",
    "            up=dict(x=0, y=0, z=1),\n",
    "            center=dict(x=0, y=0, z=0),\n",
    "            eye=dict(x=rotation, y=1.25, z=1.25)\n",
    "        )\n",
    "    )\n",
    "    return fig"
   ]
  },
  {
   "cell_type": "code",
   "execution_count": 92,
   "id": "f1fc6000-3e33-4e59-8fe8-797eb88ba778",
   "metadata": {},
   "outputs": [],
   "source": [
    "# Para interactuar con la grafica de posturas\n",
    "def interact_posture_figure(index, rotation, posture_3D_over_time_list, algorithm_point_names_list, algorithm_connection_list, adjusted_point_3D_over_time_list=None):\n",
    "    posture_3D_over_time=posture_3D_over_time_list[index]\n",
    "    fig=get_posture_figure(posture_3D_over_time, algorithm_point_names_list, algorithm_connection_list, adjusted_point_3D_over_time_list, rotation, title=\"\")\n",
    "    fig.show()"
   ]
  },
  {
   "cell_type": "code",
   "execution_count": 93,
   "id": "da7f979d-036e-41a4-8e50-dd2e07ecc287",
   "metadata": {},
   "outputs": [],
   "source": [
    "# Para interactuar con la grafica de trayectorias\n",
    "def interact_trajectory_figure(index, rotation, point_3D_over_time_list, adjusted_point_3D_over_time_list, algorithm_point_names):\n",
    "    point_3D_over_time=point_3D_over_time_list[index]\n",
    "    adjusted_point_3D_over_time=adjusted_point_3D_over_time_list[index]\n",
    "    algorithm_point_name=algorithm_point_names[index]\n",
    "    fig=get_trajectory_figure(point_3D_over_time, adjusted_point_3D_over_time, rotation, title=algorithm_point_name)\n",
    "    fig.show()"
   ]
  },
  {
   "cell_type": "markdown",
   "id": "9717d6ff-4197-4dec-a3c4-c0e362f01001",
   "metadata": {},
   "source": [
    "# Informacion del algoritmo utilizado"
   ]
  },
  {
   "cell_type": "code",
   "execution_count": 94,
   "id": "a272b9f7-4ae4-42ef-9bc5-272a341206b2",
   "metadata": {},
   "outputs": [],
   "source": [
    "algorithm_number_points=33\n",
    "algorithm_connection_list=[(0,1),(1,2),(2,3),(3,7),(0,4),(4,5),(5,6),(6,8),(9,10),(11,13),(13,15),(15,21),(15,19),(19,17),(17,15),(12,14),(14,16),(16,22),(16,20),(20,18),(18,16),(11,23),(23,24),(24,12),(12,11),(23,25),(25,27),(27,31),(31,29),(29,27),(24,26),(26,28),(28,32),(32,30),(30,28)]\n",
    "algorithm_point_names_list=[\n",
    "    \"nose\",\n",
    "    \"left_eye_inner\", \"left_eye\", \"left_eye_outer\",\n",
    "    \"right_eye_inner\", \"right_eye\", \"right_eye_outer\",\n",
    "    \"left_ear\", \"right_ear\",\n",
    "    \"mouth_left\", \"mouth_right\",\n",
    "    \"left_shoulder\", \"right_shoulder\",\n",
    "    \"left_elbow\", \"right_elbow\",\n",
    "    \"left_wrist\", \"right_wrist\",\n",
    "    \"left_pinky_1\", \"right_pinky_1\",\n",
    "    \"left_index_1\", \"right_index_1\",\n",
    "    \"left_thumb_2\", \"right_thumb_2\",\n",
    "    \"left_hip\", \"right_hip\",\n",
    "    \"left_knee\", \"right_knee\",\n",
    "    \"left_ankle\", \"right_ankle\",\n",
    "    \"left_heel\", \"right_heel\",\n",
    "    \"left_foot_index\", \"right_foot_index\"\n",
    "]"
   ]
  },
  {
   "cell_type": "markdown",
   "id": "fb9c6bd8-c2b5-425c-8a20-6bb890005437",
   "metadata": {},
   "source": [
    "# Directorio de trayectorias\n",
    "- data\n",
    "    - trajectory_datasets\n",
    "        - neutral_posture_XXXX__movement_posture_XXXX\n",
    "            - data_XXXX.npy\n",
    "            - ...\n",
    "        - ..."
   ]
  },
  {
   "cell_type": "code",
   "execution_count": 95,
   "id": "31fe436b-1b77-4888-90aa-50110d6baf3f",
   "metadata": {},
   "outputs": [
    {
     "name": "stdout",
     "output_type": "stream",
     "text": [
      "/home/chuy/Practicas/PORTAFOLIO/CERTIFICADOS/Samsung Innovation Campus 2024/Proyecto/NEW PROJECT/Notebooks\n"
     ]
    }
   ],
   "source": [
    "current_path=os.path.dirname(os.path.abspath('__file__')) \n",
    "print(current_path)"
   ]
  },
  {
   "cell_type": "code",
   "execution_count": 96,
   "id": "fec2a24a-3805-479c-a71d-715fb115b028",
   "metadata": {},
   "outputs": [
    {
     "name": "stdout",
     "output_type": "stream",
     "text": [
      "/home/chuy/Practicas/PORTAFOLIO/CERTIFICADOS/Samsung Innovation Campus 2024/Proyecto/NEW PROJECT/Project/app/data/trajectory_datasets\n"
     ]
    }
   ],
   "source": [
    "trajectory_datasets_path=os.path.join(\"/\".join(current_path.split(\"/\")[0:-1]), *[\"Project\", \"app\", \"data\", \"trajectory_datasets\"])\n",
    "print(trajectory_datasets_path)"
   ]
  },
  {
   "cell_type": "code",
   "execution_count": 97,
   "id": "100f1a2a-0798-4314-95ca-edfd72eb7540",
   "metadata": {},
   "outputs": [
    {
     "name": "stdout",
     "output_type": "stream",
     "text": [
      "Lista de directorios de trayectorias:\n",
      "\t- neutral_posture_0001__movement_posture_0001 (indice: 0)\n",
      "\t- neutral_posture_0001__movement_posture_0002 (indice: 1)\n",
      "\t- neutral_posture_0001__movement_posture_0003 (indice: 2)\n"
     ]
    }
   ],
   "source": [
    "print(\"Lista de directorios de trayectorias:\")\n",
    "folders=os.listdir(trajectory_datasets_path)\n",
    "folders.sort()\n",
    "for i,folder_name in enumerate(folders):\n",
    "    print(f\"\\t- {folder_name} (indice: {i})\")"
   ]
  },
  {
   "cell_type": "markdown",
   "id": "331d80d0-f3e7-4c28-a179-c830c04c64fb",
   "metadata": {},
   "source": [
    "# Seleccion de trayectoria"
   ]
  },
  {
   "cell_type": "code",
   "execution_count": 105,
   "id": "3260804d-80de-4b0d-8d38-dfd61613a075",
   "metadata": {},
   "outputs": [
    {
     "name": "stdout",
     "output_type": "stream",
     "text": [
      "/home/chuy/Practicas/PORTAFOLIO/CERTIFICADOS/Samsung Innovation Campus 2024/Proyecto/NEW PROJECT/Project/app/data/trajectory_datasets/neutral_posture_0001__movement_posture_0001\n"
     ]
    }
   ],
   "source": [
    "trajectory_index=0\n",
    "specific_trajectory_folder_name=folders[trajectory_index]\n",
    "specific_trajectory_full_path=os.path.join(trajectory_datasets_path, *[specific_trajectory_folder_name])\n",
    "print(specific_trajectory_full_path)"
   ]
  },
  {
   "cell_type": "markdown",
   "id": "5f387fe0-358f-4c41-a681-080d78b7ae59",
   "metadata": {},
   "source": [
    "# Obtencion de posturas 3D a lo largo del tiempo de la trayectoria seleccionada"
   ]
  },
  {
   "cell_type": "code",
   "execution_count": 106,
   "id": "c95f4365-c130-4945-9a76-b9f8f1639792",
   "metadata": {},
   "outputs": [
    {
     "name": "stdout",
     "output_type": "stream",
     "text": [
      "Numero de tomas a lo largo de la trayectoria: 41\n",
      "Si hay parametros\n"
     ]
    }
   ],
   "source": [
    "# Posturas 3D a lo largo del tiempo\n",
    "posture_3D_over_time_list=AdjustTrajectory.get_posture_3D_over_time_list(specific_trajectory_full_path)\n",
    "# Parametros de los modelos no lineales para cada punto 3D\n",
    "nonlinear_models_parameters=AdjustTrajectory.load_nonlinear_models_parameters(specific_trajectory_full_path)\n",
    "print(f\"Numero de tomas a lo largo de la trayectoria: {len(posture_3D_over_time_list)}\")\n",
    "print(f\"No hay parametros\" if nonlinear_models_parameters is None else f\"Si hay parametros\")"
   ]
  },
  {
   "cell_type": "markdown",
   "id": "a29c74ad-a902-49b4-b771-2b9ed54667bd",
   "metadata": {},
   "source": [
    "# Grafica posturas 3D"
   ]
  },
  {
   "cell_type": "code",
   "execution_count": 107,
   "id": "f328ab64-cdfc-4086-9ad5-24f15dbcc0f8",
   "metadata": {},
   "outputs": [
    {
     "data": {
      "application/vnd.jupyter.widget-view+json": {
       "model_id": "0def4bc8fc2d441888444962cb46de9b",
       "version_major": 2,
       "version_minor": 0
      },
      "text/plain": [
       "interactive(children=(IntSlider(value=0, description='index', max=40), FloatSlider(value=-1.0, description='ro…"
      ]
     },
     "metadata": {},
     "output_type": "display_data"
    },
    {
     "data": {
      "text/plain": [
       "<function __main__.<lambda>(index, rotation)>"
      ]
     },
     "execution_count": 107,
     "metadata": {},
     "output_type": "execute_result"
    }
   ],
   "source": [
    "index_slider=widgets.IntSlider(min=0, max=len(posture_3D_over_time_list) - 1, step=1, value=0)\n",
    "rotation_slider=widgets.FloatSlider(min=-1.5, max=1.5, step=0.1, value=-1)\n",
    "widgets.interact(lambda index,rotation: interact_posture_figure(\n",
    "    index, \n",
    "    rotation, \n",
    "    posture_3D_over_time_list, \n",
    "    algorithm_point_names_list, \n",
    "    algorithm_connection_list,\n",
    "    None\n",
    "), index=index_slider, rotation=rotation_slider)"
   ]
  },
  {
   "cell_type": "markdown",
   "id": "2244f2b1-f98e-4c32-b8b9-8d6751c6c89b",
   "metadata": {},
   "source": [
    "# Limpieza de posturas 3D \n",
    "Para esta tarea se utilizo un metodo visual para eliminar aquellas posturas que no seguian una trayectoria similar entre la postura anterior y la postura siguiente."
   ]
  },
  {
   "cell_type": "code",
   "execution_count": 78,
   "id": "48577c64-2c9c-4a1e-876e-146865d4999c",
   "metadata": {},
   "outputs": [
    {
     "name": "stdout",
     "output_type": "stream",
     "text": [
      "Numero de tomas a lo largo de la trayectoria: 60\n"
     ]
    }
   ],
   "source": [
    "indexes_to_remove=[]\n",
    "temp=[]\n",
    "for i in range(len(posture_3D_over_time_list)):\n",
    "    if i not in indexes_to_remove:\n",
    "        temp.append(posture_3D_over_time_list[i])\n",
    "posture_3D_over_time_list=temp\n",
    "print(f\"Numero de tomas a lo largo de la trayectoria: {len(posture_3D_over_time_list)}\")"
   ]
  },
  {
   "cell_type": "markdown",
   "id": "4c74525e-426a-4e30-97a1-382636f1161e",
   "metadata": {},
   "source": [
    "# Grafica posturas 3D limpias"
   ]
  },
  {
   "cell_type": "code",
   "execution_count": 101,
   "id": "76f08992-4c69-4e11-8780-a4c7b3b19fa4",
   "metadata": {},
   "outputs": [
    {
     "data": {
      "application/vnd.jupyter.widget-view+json": {
       "model_id": "7c41ed0346ce4af9b7b26c34009ef4f5",
       "version_major": 2,
       "version_minor": 0
      },
      "text/plain": [
       "interactive(children=(IntSlider(value=0, description='index', max=40), FloatSlider(value=-1.0, description='ro…"
      ]
     },
     "metadata": {},
     "output_type": "display_data"
    },
    {
     "data": {
      "text/plain": [
       "<function __main__.<lambda>(index, rotation)>"
      ]
     },
     "execution_count": 101,
     "metadata": {},
     "output_type": "execute_result"
    }
   ],
   "source": [
    "index_slider=widgets.IntSlider(min=0, max=len(posture_3D_over_time_list) - 1, step=1, value=0)\n",
    "rotation_slider=widgets.FloatSlider(min=-1.5, max=1.5, step=0.1, value=-1)\n",
    "widgets.interact(lambda index,rotation: interact_posture_figure(\n",
    "    index, \n",
    "    rotation, \n",
    "    posture_3D_over_time_list, \n",
    "    algorithm_point_names_list, \n",
    "    algorithm_connection_list,\n",
    "    None\n",
    "), index=index_slider, rotation=rotation_slider)"
   ]
  },
  {
   "cell_type": "markdown",
   "id": "56bd7ad6-9b29-47f9-b173-1013a9ce3269",
   "metadata": {},
   "source": [
    "# Calculo de los parametros de los modelos no lineales para cada punto 3D que describen una trayectoria ajustada"
   ]
  },
  {
   "cell_type": "code",
   "execution_count": 80,
   "id": "97609c05-13b9-4265-bb52-4d98df2f3eb8",
   "metadata": {},
   "outputs": [],
   "source": [
    "# # Calcular parametros de los modelos no lineales de cada punto 3D\n",
    "# nonlinear_models_parameters=AdjustTrajectory.calculate_nonlinear_models_parameters(posture_3D_over_time_list, algorithm_number_points)\n",
    "# # Guardar parametros\n",
    "# AdjustTrajectory.save_nonlinear_models_parameters(specific_trajectory_full_path, nonlinear_models_parameters)"
   ]
  },
  {
   "cell_type": "code",
   "execution_count": 108,
   "id": "4761cbb0-01e5-4dca-a64f-aad4d18fe441",
   "metadata": {},
   "outputs": [],
   "source": [
    "# Cargar parametros\n",
    "nonlinear_models_parameters=AdjustTrajectory.load_nonlinear_models_parameters(specific_trajectory_full_path)"
   ]
  },
  {
   "cell_type": "markdown",
   "id": "6992fc7c-68fe-4169-a4b6-2815dbc877c5",
   "metadata": {},
   "source": [
    "# Posturas 3D ajustadas a lo largo del tiempo y trayectorias ajustadas de cada punto 3D a lo largo del tiempo"
   ]
  },
  {
   "cell_type": "code",
   "execution_count": 109,
   "id": "0bb9247a-eaee-4a22-8eab-9c1ef29b7664",
   "metadata": {},
   "outputs": [],
   "source": [
    "adjusted_posture_3D_over_time_list,adjusted_point_3D_over_time_list=AdjustTrajectory.get_adjusted_posture_3D_and_point_3D_over_time_list(posture_3D_over_time_list, nonlinear_models_parameters, algorithm_number_points, n=100)"
   ]
  },
  {
   "cell_type": "markdown",
   "id": "7712166c-57b3-4a03-92bf-02fd87585327",
   "metadata": {},
   "source": [
    "# Grafica posturas 3D ajustadas"
   ]
  },
  {
   "cell_type": "code",
   "execution_count": 110,
   "id": "94d66274-0303-43c2-a267-cca6a4325d60",
   "metadata": {},
   "outputs": [
    {
     "data": {
      "application/vnd.jupyter.widget-view+json": {
       "model_id": "ccaa583f765747038ce2c3d9811b8c60",
       "version_major": 2,
       "version_minor": 0
      },
      "text/plain": [
       "interactive(children=(IntSlider(value=0, description='index', max=99), FloatSlider(value=-1.0, description='ro…"
      ]
     },
     "metadata": {},
     "output_type": "display_data"
    },
    {
     "data": {
      "text/plain": [
       "<function __main__.<lambda>(index, rotation)>"
      ]
     },
     "execution_count": 110,
     "metadata": {},
     "output_type": "execute_result"
    }
   ],
   "source": [
    "index_slider=widgets.IntSlider(min=0, max=len(adjusted_posture_3D_over_time_list) - 1, step=1, value=0)\n",
    "rotation_slider=widgets.FloatSlider(min=-1.5, max=1.5, step=0.1, value=-1)\n",
    "widgets.interact(lambda index,rotation: interact_posture_figure(\n",
    "    index, \n",
    "    rotation, \n",
    "    adjusted_posture_3D_over_time_list, \n",
    "    algorithm_point_names_list, \n",
    "    algorithm_connection_list,\n",
    "    None\n",
    "), index=index_slider, rotation=rotation_slider)"
   ]
  },
  {
   "cell_type": "markdown",
   "id": "b82c2ab5-f37f-4ca3-a132-4c3ee827206e",
   "metadata": {},
   "source": [
    "# Grafica posturas 3D ajustadas y trayectorias ajustadas de cada punto 3D"
   ]
  },
  {
   "cell_type": "code",
   "execution_count": 111,
   "id": "e3f9bc38-540a-4e74-abf1-3ea847c4083d",
   "metadata": {},
   "outputs": [
    {
     "data": {
      "application/vnd.jupyter.widget-view+json": {
       "model_id": "b7af33e2e5944499a6808e76edc494dd",
       "version_major": 2,
       "version_minor": 0
      },
      "text/plain": [
       "interactive(children=(IntSlider(value=0, description='index', max=99), FloatSlider(value=-1.0, description='ro…"
      ]
     },
     "metadata": {},
     "output_type": "display_data"
    },
    {
     "data": {
      "text/plain": [
       "<function __main__.<lambda>(index, rotation)>"
      ]
     },
     "execution_count": 111,
     "metadata": {},
     "output_type": "execute_result"
    }
   ],
   "source": [
    "index_slider=widgets.IntSlider(min=0, max=len(adjusted_posture_3D_over_time_list) - 1, step=1, value=0)\n",
    "rotation_slider=widgets.FloatSlider(min=-1.5, max=1.5, step=0.1, value=-1)\n",
    "widgets.interact(lambda index,rotation: interact_posture_figure(\n",
    "    index, \n",
    "    rotation, \n",
    "    adjusted_posture_3D_over_time_list, \n",
    "    algorithm_point_names_list, \n",
    "    algorithm_connection_list,\n",
    "    adjusted_point_3D_over_time_list\n",
    "), index=index_slider, rotation=rotation_slider)"
   ]
  },
  {
   "cell_type": "markdown",
   "id": "c7237df6-079f-4e64-bc5d-eb7824c5a34e",
   "metadata": {},
   "source": [
    "# Grafica trayectorias ajustadas de cada punto 3D"
   ]
  },
  {
   "cell_type": "code",
   "execution_count": 85,
   "id": "ffb44f57-1a50-47e9-a7da-a816ba084055",
   "metadata": {},
   "outputs": [
    {
     "data": {
      "application/vnd.jupyter.widget-view+json": {
       "model_id": "e4f8953d26df4ce69e32cdc47ef92038",
       "version_major": 2,
       "version_minor": 0
      },
      "text/plain": [
       "interactive(children=(IntSlider(value=0, description='index', max=32), FloatSlider(value=-1.0, description='ro…"
      ]
     },
     "metadata": {},
     "output_type": "display_data"
    },
    {
     "data": {
      "text/plain": [
       "<function __main__.<lambda>(index, rotation)>"
      ]
     },
     "execution_count": 85,
     "metadata": {},
     "output_type": "execute_result"
    }
   ],
   "source": [
    "point_3D_over_time_list=AdjustTrajectory.get_point_3D_over_time_list(posture_3D_over_time_list, algorithm_number_points)\n",
    "index_slider=widgets.IntSlider(min=0, max=algorithm_number_points - 1, step=1, value=0)\n",
    "rotation_slider=widgets.FloatSlider(min=-1.5, max=1.5, step=0.1, value=-1)\n",
    "widgets.interact(lambda index,rotation: interact_trajectory_figure(\n",
    "    index, \n",
    "    rotation, \n",
    "    point_3D_over_time_list, \n",
    "    adjusted_point_3D_over_time_list, \n",
    "    algorithm_point_names_list\n",
    "), index=index_slider, rotation=rotation_slider)"
   ]
  },
  {
   "cell_type": "code",
   "execution_count": null,
   "id": "c24dd871-e6eb-4de3-b0fb-e1d9d2d8bc2e",
   "metadata": {},
   "outputs": [],
   "source": []
  }
 ],
 "metadata": {
  "kernelspec": {
   "display_name": "Python 3 (ipykernel)",
   "language": "python",
   "name": "python3"
  },
  "language_info": {
   "codemirror_mode": {
    "name": "ipython",
    "version": 3
   },
   "file_extension": ".py",
   "mimetype": "text/x-python",
   "name": "python",
   "nbconvert_exporter": "python",
   "pygments_lexer": "ipython3",
   "version": "3.8.18"
  }
 },
 "nbformat": 4,
 "nbformat_minor": 5
}
